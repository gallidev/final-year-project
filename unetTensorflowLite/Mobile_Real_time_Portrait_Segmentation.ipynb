{
  "nbformat": 4,
  "nbformat_minor": 0,
  "metadata": {
    "colab": {
      "name": "Mobile_Real_time_Portrait_Segmentation.ipynb",
      "version": "0.3.2",
      "provenance": [],
      "collapsed_sections": [],
      "toc_visible": true
    },
    "kernelspec": {
      "name": "python3",
      "display_name": "Python 3"
    },
    "accelerator": "GPU"
  },
  "cells": [
    {
      "metadata": {
        "id": "cm0pi9uym5hr",
        "colab_type": "text"
      },
      "cell_type": "markdown",
      "source": [
        "#Mobile Real-time Portrait Segmentation\n",
        "\n",
        "Follow the instructions to train and download the models.\n",
        "\n",
        "You can also follow the same instructions to train and convert the models on your machine. If that is the case the following are the required libraries:\n",
        "\n",
        "- Tensorflow-GPU with minimum v1.11.0 \n",
        "- Tensorflow-CPU with minimum v1.11.0\n",
        "- Python 2.7 or 3.5\n",
        "\n",
        "First download the repository of the UNET. "
      ]
    },
    {
      "metadata": {
        "id": "N-8r_b-BM4QQ",
        "colab_type": "code",
        "outputId": "30b1564a-4683-4d94-c4cc-b756cc0a38d8",
        "colab": {
          "base_uri": "https://localhost:8080/",
          "height": 153
        }
      },
      "cell_type": "code",
      "source": [
        "!git clone https://github.com/gallifilo/final-year-project/"
      ],
      "execution_count": 1,
      "outputs": [
        {
          "output_type": "stream",
          "text": [
            "Cloning into 'final-year-project'...\n",
            "remote: Enumerating objects: 216, done.\u001b[K\n",
            "remote: Counting objects: 100% (216/216), done.\u001b[K\n",
            "remote: Compressing objects: 100% (150/150), done.\u001b[K\n",
            "remote: Total 6213 (delta 77), reused 179 (delta 60), pack-reused 5997\u001b[K\n",
            "Receiving objects: 100% (6213/6213), 507.45 MiB | 32.58 MiB/s, done.\n",
            "Resolving deltas: 100% (669/669), done.\n",
            "Checking out files: 100% (5174/5174), done.\n"
          ],
          "name": "stdout"
        }
      ]
    },
    {
      "metadata": {
        "id": "lHw-f2iOmyQW",
        "colab_type": "text"
      },
      "cell_type": "markdown",
      "source": [
        "The repository has already the Portraits dataset ready to use.\n",
        "\n",
        "We can now manipulate the Portrait dataset by performing **image augmentation **.\n",
        "\n",
        "With Image augmentation, we will have more images in our dataset, by flipping, cropping, adding grain to the images."
      ]
    },
    {
      "metadata": {
        "id": "7RpemTAL5YwS",
        "colab_type": "code",
        "outputId": "b0cc01f9-c2fa-48de-d42e-f7ebb386b48f",
        "colab": {
          "base_uri": "https://localhost:8080/",
          "height": 204
        }
      },
      "cell_type": "code",
      "source": [
        "%cd final-year-project/unetTensorflowLite\n",
        "!ls"
      ],
      "execution_count": 2,
      "outputs": [
        {
          "output_type": "stream",
          "text": [
            "/content/final-year-project/unetTensorflowLite\n",
            "1.jpg\t\t    main.py\t\t    testEpochs32.csv\n",
            "data_set\t    MaskSquared1.jpg\t    testImageDataset.py\n",
            "epochsResults.txt   model_classes\t    test_model.py\n",
            "freeze_graph.py     model_classes_infer     tflite_create.txt\n",
            "freezepbscript.txt  models\t\t    tflite_test.py\n",
            "images\t\t    model_test_accuracy.py  tf_test.py\n",
            "IncreaseImage.py    README.md\t\t    trainEpochs32.csv\n",
            "LICENSE\t\t    ReleaseNew\t\t    util\n",
            "LossSet.csv\t    runEvaluation.command\n",
            "main_infer.py\t    Squared1.jpg\n"
          ],
          "name": "stdout"
        }
      ]
    },
    {
      "metadata": {
        "id": "cFNUT1Y_nOJ3",
        "colab_type": "code",
        "colab": {}
      },
      "cell_type": "code",
      "source": [
        "!python3 IncreaseImage.py"
      ],
      "execution_count": 0,
      "outputs": []
    },
    {
      "metadata": {
        "id": "iILGfGCdmy6O",
        "colab_type": "text"
      },
      "cell_type": "markdown",
      "source": [
        "To train run main.py and specify different arguments\n",
        "\n",
        "*   `--model_id int` : specify which architecture you would like to train, 1 is Standard UNet Squared, 2 is Aspect Ratio, 3 is Half Conv and 4 is Bigger Strides\n",
        "*   `--batchsize int`: the size of the batch\n",
        "*  `--gpu`: if you would like to run the training on the GPU\n",
        "* `--epoch int`: number of epochs\n",
        "* `--trainrate float`: specifies how to split the training and testing data, default is 0.85, 85% training and 15% testing \n",
        "* `--augmentation`: if you have performed augmentation of the dataset this flag is required \n",
        "\n",
        "\n",
        "\n",
        "\n"
      ]
    },
    {
      "metadata": {
        "id": "eE-oukpdOmEs",
        "colab_type": "code",
        "colab": {
          "base_uri": "https://localhost:8080/",
          "height": 1278
        },
        "outputId": "142f604f-fe86-4f00-9928-49186f25cf31"
      },
      "cell_type": "code",
      "source": [
        "!python3 main.py --gpu --batchsize 32 --epoch 2 --model_id 2"
      ],
      "execution_count": 3,
      "outputs": [
        {
          "output_type": "stream",
          "text": [
            "[96, 128]\n",
            "Model ID: 2\n",
            "Squared: False\n",
            "test: False\n",
            "Loading original images........ Completed\n",
            "Loading segmented images........ Completed\n",
            "Casting to one-hot encoding... Done\n",
            "palette\n",
            "None\n",
            "2019-04-08 00:37:52.671443: I tensorflow/core/platform/profile_utils/cpu_utils.cc:94] CPU Frequency: 2300000000 Hz\n",
            "2019-04-08 00:37:52.671851: I tensorflow/compiler/xla/service/service.cc:150] XLA service 0x31eb340 executing computations on platform Host. Devices:\n",
            "2019-04-08 00:37:52.671890: I tensorflow/compiler/xla/service/service.cc:158]   StreamExecutor device (0): <undefined>, <undefined>\n",
            "2019-04-08 00:37:52.832235: I tensorflow/stream_executor/cuda/cuda_gpu_executor.cc:998] successful NUMA node read from SysFS had negative value (-1), but there must be at least one NUMA node, so returning NUMA node zero\n",
            "2019-04-08 00:37:52.832788: I tensorflow/compiler/xla/service/service.cc:150] XLA service 0x31eadc0 executing computations on platform CUDA. Devices:\n",
            "2019-04-08 00:37:52.832841: I tensorflow/compiler/xla/service/service.cc:158]   StreamExecutor device (0): Tesla K80, Compute Capability 3.7\n",
            "2019-04-08 00:37:52.833215: I tensorflow/core/common_runtime/gpu/gpu_device.cc:1433] Found device 0 with properties: \n",
            "name: Tesla K80 major: 3 minor: 7 memoryClockRate(GHz): 0.8235\n",
            "pciBusID: 0000:00:04.0\n",
            "totalMemory: 11.17GiB freeMemory: 11.10GiB\n",
            "2019-04-08 00:37:52.833250: I tensorflow/core/common_runtime/gpu/gpu_device.cc:1512] Adding visible gpu devices: 0\n",
            "2019-04-08 00:37:54.214309: I tensorflow/core/common_runtime/gpu/gpu_device.cc:984] Device interconnect StreamExecutor with strength 1 edge matrix:\n",
            "2019-04-08 00:37:54.214377: I tensorflow/core/common_runtime/gpu/gpu_device.cc:990]      0 \n",
            "2019-04-08 00:37:54.214410: I tensorflow/core/common_runtime/gpu/gpu_device.cc:1003] 0:   N \n",
            "2019-04-08 00:37:54.214690: W tensorflow/core/common_runtime/gpu/gpu_bfc_allocator.cc:42] Overriding allow_growth setting because the TF_FORCE_GPU_ALLOW_GROWTH environment variable is set. Original config value was 0.\n",
            "2019-04-08 00:37:54.214810: I tensorflow/core/common_runtime/gpu/gpu_device.cc:1115] Created TensorFlow device (/job:localhost/replica:0/task:0/device:GPU:0 with 10754 MB memory) -> physical GPU (device: 0, name: Tesla K80, pci bus id: 0000:00:04.0, compute capability: 3.7)\n",
            "WARNING:tensorflow:From /usr/local/lib/python3.6/dist-packages/tensorflow/python/ops/control_flow_ops.py:3632: colocate_with (from tensorflow.python.framework.ops) is deprecated and will be removed in a future version.\n",
            "Instructions for updating:\n",
            "Colocations handled automatically by placer.\n",
            "\n",
            "WARNING: The TensorFlow contrib module will not be included in TensorFlow 2.0.\n",
            "For more information, please see:\n",
            "  * https://github.com/tensorflow/community/blob/master/rfcs/20180907-contrib-sunset.md\n",
            "  * https://github.com/tensorflow/addons\n",
            "If you depend on functionality not listed there, please file an issue.\n",
            "\n",
            "WARNING:tensorflow:From /content/final-year-project/unetTensorflowLite/model_classes/aspectRatioVertical.py:68: conv2d (from tensorflow.python.layers.convolutional) is deprecated and will be removed in a future version.\n",
            "Instructions for updating:\n",
            "Use keras.layers.conv2d instead.\n",
            "WARNING:tensorflow:From /content/final-year-project/unetTensorflowLite/model_classes/aspectRatioVertical.py:84: batch_normalization (from tensorflow.python.layers.normalization) is deprecated and will be removed in a future version.\n",
            "Instructions for updating:\n",
            "Use keras.layers.batch_normalization instead.\n",
            "WARNING:tensorflow:From /content/final-year-project/unetTensorflowLite/model_classes/aspectRatioVertical.py:90: max_pooling2d (from tensorflow.python.layers.pooling) is deprecated and will be removed in a future version.\n",
            "Instructions for updating:\n",
            "Use keras.layers.max_pooling2d instead.\n",
            "WARNING:tensorflow:From /content/final-year-project/unetTensorflowLite/model_classes/aspectRatioVertical.py:106: conv2d_transpose (from tensorflow.python.layers.convolutional) is deprecated and will be removed in a future version.\n",
            "Instructions for updating:\n",
            "Use keras.layers.conv2d_transpose instead.\n",
            "WARNING:tensorflow:From main.py:74: softmax_cross_entropy_with_logits (from tensorflow.python.ops.nn_ops) is deprecated and will be removed in a future version.\n",
            "Instructions for updating:\n",
            "\n",
            "Future major versions of TensorFlow will allow gradients to flow\n",
            "into the labels input on backprop by default.\n",
            "\n",
            "See `tf.nn.softmax_cross_entropy_with_logits_v2`.\n",
            "\n",
            "2019-04-08 00:37:59.928854: I tensorflow/core/common_runtime/gpu/gpu_device.cc:1512] Adding visible gpu devices: 0\n",
            "2019-04-08 00:37:59.928960: I tensorflow/core/common_runtime/gpu/gpu_device.cc:984] Device interconnect StreamExecutor with strength 1 edge matrix:\n",
            "2019-04-08 00:37:59.928991: I tensorflow/core/common_runtime/gpu/gpu_device.cc:990]      0 \n",
            "2019-04-08 00:37:59.929011: I tensorflow/core/common_runtime/gpu/gpu_device.cc:1003] 0:   N \n",
            "2019-04-08 00:37:59.929308: I tensorflow/core/common_runtime/gpu/gpu_device.cc:1115] Created TensorFlow device (/job:localhost/replica:0/task:0/device:GPU:0 with 10754 MB memory) -> physical GPU (device: 0, name: Tesla K80, pci bus id: 0000:00:04.0, compute capability: 3.7)\n",
            "2019-04-08 00:38:02.989386: I tensorflow/stream_executor/dso_loader.cc:152] successfully opened CUDA library libcublas.so.10.0 locally\n",
            "Epoch: 0\n",
            "[Train] Loss: 0.41064242  Accuracy: 0.82224935\n",
            "[Test]  Loss: 0.36150783 Accuracy: 0.8494607\n",
            "in= input:0\n",
            "on= output/BiasAdd:0\n",
            "Epoch: 1\n",
            "[Train] Loss: 0.24584621  Accuracy: 0.8993327\n",
            "[Test]  Loss: 0.2830721 Accuracy: 0.8821034\n",
            "in= input:0\n",
            "on= output/BiasAdd:0\n",
            "Result\n",
            "[Test]  Loss: 0.2830721 Accuracy: 0.8821034\n"
          ],
          "name": "stdout"
        }
      ]
    },
    {
      "metadata": {
        "id": "_k0lh6A2U3U8",
        "colab_type": "text"
      },
      "cell_type": "markdown",
      "source": [
        "After the model is trained, we need to compress it and save it into a .pbtxt file called semanticsegmentation_person.pbtxt in the folder models.\n",
        "\n",
        "To do this we run main_infer.py and specify the `--model_id` int argument with the specific model id as it was used for training. 1 is Standard UNet Squared, 2 is Aspect Ratio, 3 is Half Conv and 4 is Bigger Strides.\n"
      ]
    },
    {
      "metadata": {
        "id": "ymQ1tTBVU2tv",
        "colab_type": "code",
        "outputId": "3f93cf72-bf28-4ebb-cdcd-9d51b3e5b86c",
        "colab": {
          "base_uri": "https://localhost:8080/",
          "height": 768
        }
      },
      "cell_type": "code",
      "source": [
        "!python main_infer.py --model_id 2"
      ],
      "execution_count": 4,
      "outputs": [
        {
          "output_type": "stream",
          "text": [
            "\n",
            "WARNING: The TensorFlow contrib module will not be included in TensorFlow 2.0.\n",
            "For more information, please see:\n",
            "  * https://github.com/tensorflow/community/blob/master/rfcs/20180907-contrib-sunset.md\n",
            "  * https://github.com/tensorflow/addons\n",
            "If you depend on functionality not listed there, please file an issue.\n",
            "\n",
            "WARNING:tensorflow:From /content/final-year-project/unetTensorflowLite/model_classes_infer/aspectRatioVertical_infer.py:70: conv2d (from tensorflow.python.layers.convolutional) is deprecated and will be removed in a future version.\n",
            "Instructions for updating:\n",
            "Use keras.layers.conv2d instead.\n",
            "WARNING:tensorflow:From /usr/local/lib/python3.6/dist-packages/tensorflow/python/framework/op_def_library.py:263: colocate_with (from tensorflow.python.framework.ops) is deprecated and will be removed in a future version.\n",
            "Instructions for updating:\n",
            "Colocations handled automatically by placer.\n",
            "WARNING:tensorflow:From /content/final-year-project/unetTensorflowLite/model_classes_infer/aspectRatioVertical_infer.py:86: batch_normalization (from tensorflow.python.layers.normalization) is deprecated and will be removed in a future version.\n",
            "Instructions for updating:\n",
            "Use keras.layers.batch_normalization instead.\n",
            "WARNING:tensorflow:From /content/final-year-project/unetTensorflowLite/model_classes_infer/aspectRatioVertical_infer.py:92: max_pooling2d (from tensorflow.python.layers.pooling) is deprecated and will be removed in a future version.\n",
            "Instructions for updating:\n",
            "Use keras.layers.max_pooling2d instead.\n",
            "WARNING:tensorflow:From /content/final-year-project/unetTensorflowLite/model_classes_infer/aspectRatioVertical_infer.py:108: conv2d_transpose (from tensorflow.python.layers.convolutional) is deprecated and will be removed in a future version.\n",
            "Instructions for updating:\n",
            "Use keras.layers.conv2d_transpose instead.\n",
            "2019-04-08 00:40:17.910901: I tensorflow/core/platform/profile_utils/cpu_utils.cc:94] CPU Frequency: 2300000000 Hz\n",
            "2019-04-08 00:40:17.911194: I tensorflow/compiler/xla/service/service.cc:150] XLA service 0x1f1be40 executing computations on platform Host. Devices:\n",
            "2019-04-08 00:40:17.911234: I tensorflow/compiler/xla/service/service.cc:158]   StreamExecutor device (0): <undefined>, <undefined>\n",
            "2019-04-08 00:40:18.011448: I tensorflow/stream_executor/cuda/cuda_gpu_executor.cc:998] successful NUMA node read from SysFS had negative value (-1), but there must be at least one NUMA node, so returning NUMA node zero\n",
            "2019-04-08 00:40:18.012049: I tensorflow/compiler/xla/service/service.cc:150] XLA service 0x1f1d2e0 executing computations on platform CUDA. Devices:\n",
            "2019-04-08 00:40:18.012097: I tensorflow/compiler/xla/service/service.cc:158]   StreamExecutor device (0): Tesla K80, Compute Capability 3.7\n",
            "2019-04-08 00:40:18.012463: I tensorflow/core/common_runtime/gpu/gpu_device.cc:1433] Found device 0 with properties: \n",
            "name: Tesla K80 major: 3 minor: 7 memoryClockRate(GHz): 0.8235\n",
            "pciBusID: 0000:00:04.0\n",
            "totalMemory: 11.17GiB freeMemory: 11.10GiB\n",
            "2019-04-08 00:40:18.012496: I tensorflow/core/common_runtime/gpu/gpu_device.cc:1512] Adding visible gpu devices: 0\n",
            "2019-04-08 00:40:18.398489: I tensorflow/core/common_runtime/gpu/gpu_device.cc:984] Device interconnect StreamExecutor with strength 1 edge matrix:\n",
            "2019-04-08 00:40:18.398569: I tensorflow/core/common_runtime/gpu/gpu_device.cc:990]      0 \n",
            "2019-04-08 00:40:18.398599: I tensorflow/core/common_runtime/gpu/gpu_device.cc:1003] 0:   N \n",
            "2019-04-08 00:40:18.398961: W tensorflow/core/common_runtime/gpu/gpu_bfc_allocator.cc:42] Overriding allow_growth setting because the TF_FORCE_GPU_ALLOW_GROWTH environment variable is set. Original config value was 0.\n",
            "2019-04-08 00:40:18.399042: I tensorflow/core/common_runtime/gpu/gpu_device.cc:1115] Created TensorFlow device (/job:localhost/replica:0/task:0/device:GPU:0 with 10754 MB memory) -> physical GPU (device: 0, name: Tesla K80, pci bus id: 0000:00:04.0, compute capability: 3.7)\n",
            "in= input:0\n",
            "on= output/BiasAdd:0\n",
            "WARNING:tensorflow:From /usr/local/lib/python3.6/dist-packages/tensorflow/python/training/saver.py:1266: checkpoint_exists (from tensorflow.python.training.checkpoint_management) is deprecated and will be removed in a future version.\n",
            "Instructions for updating:\n",
            "Use standard file APIs to check for files with this prefix.\n"
          ],
          "name": "stdout"
        }
      ]
    },
    {
      "metadata": {
        "id": "ywy1YT8dkr4t",
        "colab_type": "text"
      },
      "cell_type": "markdown",
      "source": [
        "Then we need to freeze the model which creates a GraphDef .pb file in the models folder"
      ]
    },
    {
      "metadata": {
        "id": "yRr7nsF3krLf",
        "colab_type": "code",
        "outputId": "063405db-3cac-4ec0-db20-98f2884d2b86",
        "colab": {
          "base_uri": "https://localhost:8080/",
          "height": 564
        }
      },
      "cell_type": "code",
      "source": [
        "!python3 freeze_graph.py \\\n",
        "--input_graph=models/semanticsegmentation_person.pbtxt \\\n",
        "--input_checkpoint=models/deployfinal.ckpt \\\n",
        "--output_graph=models/semanticsegmentation_frozen_person_latest.pb \\\n",
        "--output_node_names=output/BiasAdd \\\n",
        "--input_binary=False\n"
      ],
      "execution_count": 5,
      "outputs": [
        {
          "output_type": "stream",
          "text": [
            "WARNING:tensorflow:From freeze_graph.py:170: FastGFile.__init__ (from tensorflow.python.platform.gfile) is deprecated and will be removed in a future version.\n",
            "Instructions for updating:\n",
            "Use tf.gfile.GFile.\n",
            "WARNING:tensorflow:From freeze_graph.py:80: checkpoint_exists (from tensorflow.python.training.checkpoint_management) is deprecated and will be removed in a future version.\n",
            "Instructions for updating:\n",
            "Use standard file APIs to check for files with this prefix.\n",
            "2019-04-08 00:40:26.153410: I tensorflow/core/platform/profile_utils/cpu_utils.cc:94] CPU Frequency: 2300000000 Hz\n",
            "2019-04-08 00:40:26.153670: I tensorflow/compiler/xla/service/service.cc:150] XLA service 0x280d860 executing computations on platform Host. Devices:\n",
            "2019-04-08 00:40:26.153710: I tensorflow/compiler/xla/service/service.cc:158]   StreamExecutor device (0): <undefined>, <undefined>\n",
            "2019-04-08 00:40:26.247916: I tensorflow/stream_executor/cuda/cuda_gpu_executor.cc:998] successful NUMA node read from SysFS had negative value (-1), but there must be at least one NUMA node, so returning NUMA node zero\n",
            "2019-04-08 00:40:26.248500: I tensorflow/compiler/xla/service/service.cc:150] XLA service 0x280d440 executing computations on platform CUDA. Devices:\n",
            "2019-04-08 00:40:26.248540: I tensorflow/compiler/xla/service/service.cc:158]   StreamExecutor device (0): Tesla K80, Compute Capability 3.7\n",
            "2019-04-08 00:40:26.248982: I tensorflow/core/common_runtime/gpu/gpu_device.cc:1433] Found device 0 with properties: \n",
            "name: Tesla K80 major: 3 minor: 7 memoryClockRate(GHz): 0.8235\n",
            "pciBusID: 0000:00:04.0\n",
            "totalMemory: 11.17GiB freeMemory: 11.10GiB\n",
            "2019-04-08 00:40:26.249017: I tensorflow/core/common_runtime/gpu/gpu_device.cc:1512] Adding visible gpu devices: 0\n",
            "2019-04-08 00:40:26.629265: I tensorflow/core/common_runtime/gpu/gpu_device.cc:984] Device interconnect StreamExecutor with strength 1 edge matrix:\n",
            "2019-04-08 00:40:26.629346: I tensorflow/core/common_runtime/gpu/gpu_device.cc:990]      0 \n",
            "2019-04-08 00:40:26.629366: I tensorflow/core/common_runtime/gpu/gpu_device.cc:1003] 0:   N \n",
            "2019-04-08 00:40:26.629653: W tensorflow/core/common_runtime/gpu/gpu_bfc_allocator.cc:42] Overriding allow_growth setting because the TF_FORCE_GPU_ALLOW_GROWTH environment variable is set. Original config value was 0.\n",
            "2019-04-08 00:40:26.629717: I tensorflow/core/common_runtime/gpu/gpu_device.cc:1115] Created TensorFlow device (/job:localhost/replica:0/task:0/device:GPU:0 with 10754 MB memory) -> physical GPU (device: 0, name: Tesla K80, pci bus id: 0000:00:04.0, compute capability: 3.7)\n",
            "WARNING:tensorflow:From /usr/local/lib/python3.6/dist-packages/tensorflow/python/ops/control_flow_ops.py:3632: colocate_with (from tensorflow.python.framework.ops) is deprecated and will be removed in a future version.\n",
            "Instructions for updating:\n",
            "Colocations handled automatically by placer.\n",
            "WARNING:tensorflow:From freeze_graph.py:153: convert_variables_to_constants (from tensorflow.python.framework.graph_util_impl) is deprecated and will be removed in a future version.\n",
            "Instructions for updating:\n",
            "Use tf.compat.v1.graph_util.convert_variables_to_constants\n",
            "WARNING:tensorflow:From /usr/local/lib/python3.6/dist-packages/tensorflow/python/framework/graph_util_impl.py:245: extract_sub_graph (from tensorflow.python.framework.graph_util_impl) is deprecated and will be removed in a future version.\n",
            "Instructions for updating:\n",
            "Use tf.compat.v1.graph_util.extract_sub_graph\n"
          ],
          "name": "stdout"
        }
      ]
    },
    {
      "metadata": {
        "id": "DUsy11jwXLf7",
        "colab_type": "text"
      },
      "cell_type": "markdown",
      "source": [
        "Finally convert the GraphDef model into a .tflite model.\n",
        "\n",
        "it is important to specify the input_shapes of the model: \n",
        "\n",
        "For model_id 1 the Standard UNet Square the input shape is `--input_shapes=1,128,128,3`\n",
        "\n",
        "For model_id 2, 3 and 4 is `--input_shapes=1,128,96,3`"
      ]
    },
    {
      "metadata": {
        "id": "SsROqiA2v-8i",
        "colab_type": "code",
        "outputId": "a4bea68d-6043-4507-afb3-3a053bca7159",
        "colab": {
          "base_uri": "https://localhost:8080/",
          "height": 309
        }
      },
      "cell_type": "code",
      "source": [
        "!tflite_convert \\\n",
        "--graph_def_file=models/semanticsegmentation_frozen_person_latest.pb  \\\n",
        "--input_format=TENSORFLOW_GRAPHDEF \\\n",
        "--output_format=TFLITE \\\n",
        "--output_file=models/semanticsegmentation_frozen_quantized_32_new.tflite \\\n",
        "--input_shapes=1,128,96,3 \\\n",
        "--inference_type=FLOAT \\\n",
        "--input_type=FLOAT \\\n",
        "--input_arrays=input \\\n",
        "--output_arrays=output/BiasAdd \\\n",
        "--post_training_quantize\n"
      ],
      "execution_count": 6,
      "outputs": [
        {
          "output_type": "stream",
          "text": [
            "2019-04-08 00:40:37.981578: I tensorflow/core/platform/profile_utils/cpu_utils.cc:94] CPU Frequency: 2300000000 Hz\n",
            "2019-04-08 00:40:37.982080: I tensorflow/compiler/xla/service/service.cc:150] XLA service 0x558f3e583760 executing computations on platform Host. Devices:\n",
            "2019-04-08 00:40:37.982179: I tensorflow/compiler/xla/service/service.cc:158]   StreamExecutor device (0): <undefined>, <undefined>\n",
            "2019-04-08 00:40:38.096574: I tensorflow/stream_executor/cuda/cuda_gpu_executor.cc:998] successful NUMA node read from SysFS had negative value (-1), but there must be at least one NUMA node, so returning NUMA node zero\n",
            "2019-04-08 00:40:38.097294: I tensorflow/compiler/xla/service/service.cc:150] XLA service 0x558f3e584aa0 executing computations on platform CUDA. Devices:\n",
            "2019-04-08 00:40:38.097340: I tensorflow/compiler/xla/service/service.cc:158]   StreamExecutor device (0): Tesla K80, Compute Capability 3.7\n",
            "2019-04-08 00:40:38.097871: I tensorflow/core/common_runtime/gpu/gpu_device.cc:1433] Found device 0 with properties: \n",
            "name: Tesla K80 major: 3 minor: 7 memoryClockRate(GHz): 0.8235\n",
            "pciBusID: 0000:00:04.0\n",
            "totalMemory: 11.17GiB freeMemory: 11.10GiB\n",
            "2019-04-08 00:40:38.097922: I tensorflow/core/common_runtime/gpu/gpu_device.cc:1512] Adding visible gpu devices: 0\n",
            "2019-04-08 00:40:39.507366: I tensorflow/core/common_runtime/gpu/gpu_device.cc:984] Device interconnect StreamExecutor with strength 1 edge matrix:\n",
            "2019-04-08 00:40:39.507436: I tensorflow/core/common_runtime/gpu/gpu_device.cc:990]      0 \n",
            "2019-04-08 00:40:39.507460: I tensorflow/core/common_runtime/gpu/gpu_device.cc:1003] 0:   N \n",
            "2019-04-08 00:40:39.507739: W tensorflow/core/common_runtime/gpu/gpu_bfc_allocator.cc:42] Overriding allow_growth setting because the TF_FORCE_GPU_ALLOW_GROWTH environment variable is set. Original config value was 0.\n",
            "2019-04-08 00:40:39.507866: I tensorflow/core/common_runtime/gpu/gpu_device.cc:1115] Created TensorFlow device (/job:localhost/replica:0/task:0/device:GPU:0 with 10754 MB memory) -> physical GPU (device: 0, name: Tesla K80, pci bus id: 0000:00:04.0, compute capability: 3.7)\n"
          ],
          "name": "stdout"
        }
      ]
    },
    {
      "metadata": {
        "id": "pqG8hPzrXyjx",
        "colab_type": "text"
      },
      "cell_type": "markdown",
      "source": [
        "After the conversion the tflite file can be found under  `final-year-project/unetTensorflowLite/models` folder, with the name of semanticsegmentation_frozen_quantized_32_new.tflite \n",
        "\n",
        "You can right click and download it. \n"
      ]
    },
    {
      "metadata": {
        "id": "Sl3YZmTWZJGl",
        "colab_type": "text"
      },
      "cell_type": "markdown",
      "source": [
        "You can also run a quick test of accuracy test with tflite model you have just generated.\n",
        "\n",
        "make sure to use \n",
        "`--init_size 96 128` for model with id 1\n",
        "\n",
        "or `--init_size 96 128 \\ --no_squared `  for models with id 2, 3 and 4 \n"
      ]
    },
    {
      "metadata": {
        "id": "bU638FEMlN5A",
        "colab_type": "code",
        "outputId": "af6bfda6-cb92-422b-affd-2c4a50a1b8ad",
        "colab": {
          "base_uri": "https://localhost:8080/",
          "height": 717
        }
      },
      "cell_type": "code",
      "source": [
        "!python3 model_test_accuracy.py \\\n",
        "--model_path models/semanticsegmentation_frozen_quantized_32_new.tflite \\\n",
        "--tflite \\\n",
        "--init_size 96 128 \\\n",
        "--no_squared"
      ],
      "execution_count": 7,
      "outputs": [
        {
          "output_type": "stream",
          "text": [
            "(96, 128)\n",
            "Squared: False\n",
            "tflite: True\n",
            "test: False\n",
            "Loading original images........ Completed\n",
            "Loading segmented images........ Completed\n",
            "Casting to one-hot encoding... tcmalloc: large alloc 1569603584 bytes == 0x5fcc0000 @  0x7f31673df1e7 0x7f3165115a41 0x7f3165178c13 0x7f3165178cda 0x7f3165207cc4 0x7f31652080d0 0x506b39 0x502209 0x502f3d 0x506859 0x504c28 0x502540 0x502f3d 0x506859 0x504c28 0x501b2e 0x591461 0x54b813 0x555421 0x5a730c 0x503073 0x507641 0x504c28 0x502540 0x502f3d 0x507641 0x502209 0x502f3d 0x506859 0x504c28 0x506393\n",
            "Done\n",
            "palette\n",
            "None\n",
            "2019-04-08 00:42:16.728870: I tensorflow/core/platform/profile_utils/cpu_utils.cc:94] CPU Frequency: 2300000000 Hz\n",
            "2019-04-08 00:42:16.729139: I tensorflow/compiler/xla/service/service.cc:150] XLA service 0x2ab3340 executing computations on platform Host. Devices:\n",
            "2019-04-08 00:42:16.729181: I tensorflow/compiler/xla/service/service.cc:158]   StreamExecutor device (0): <undefined>, <undefined>\n",
            "2019-04-08 00:42:16.825728: I tensorflow/stream_executor/cuda/cuda_gpu_executor.cc:998] successful NUMA node read from SysFS had negative value (-1), but there must be at least one NUMA node, so returning NUMA node zero\n",
            "2019-04-08 00:42:16.826310: I tensorflow/compiler/xla/service/service.cc:150] XLA service 0x2ab4260 executing computations on platform CUDA. Devices:\n",
            "2019-04-08 00:42:16.826349: I tensorflow/compiler/xla/service/service.cc:158]   StreamExecutor device (0): Tesla K80, Compute Capability 3.7\n",
            "2019-04-08 00:42:16.826726: I tensorflow/core/common_runtime/gpu/gpu_device.cc:1433] Found device 0 with properties: \n",
            "name: Tesla K80 major: 3 minor: 7 memoryClockRate(GHz): 0.8235\n",
            "pciBusID: 0000:00:04.0\n",
            "totalMemory: 11.17GiB freeMemory: 11.10GiB\n",
            "2019-04-08 00:42:16.826772: I tensorflow/core/common_runtime/gpu/gpu_device.cc:1512] Adding visible gpu devices: 0\n",
            "2019-04-08 00:42:17.125445: I tensorflow/core/common_runtime/gpu/gpu_device.cc:984] Device interconnect StreamExecutor with strength 1 edge matrix:\n",
            "2019-04-08 00:42:17.125523: I tensorflow/core/common_runtime/gpu/gpu_device.cc:990]      0 \n",
            "2019-04-08 00:42:17.125543: I tensorflow/core/common_runtime/gpu/gpu_device.cc:1003] 0:   N \n",
            "2019-04-08 00:42:17.125850: W tensorflow/core/common_runtime/gpu/gpu_bfc_allocator.cc:42] Overriding allow_growth setting because the TF_FORCE_GPU_ALLOW_GROWTH environment variable is set. Original config value was 0.\n",
            "2019-04-08 00:42:17.125929: I tensorflow/core/common_runtime/gpu/gpu_device.cc:1115] Created TensorFlow device (/job:localhost/replica:0/task:0/device:GPU:0 with 10754 MB memory) -> physical GPU (device: 0, name: Tesla K80, pci bus id: 0000:00:04.0, compute capability: 3.7)\n",
            "WARNING:tensorflow:From /usr/local/lib/python3.6/dist-packages/tensorflow/python/ops/control_flow_ops.py:3632: colocate_with (from tensorflow.python.framework.ops) is deprecated and will be removed in a future version.\n",
            "Instructions for updating:\n",
            "Colocations handled automatically by placer.\n",
            "\n",
            "WARNING: The TensorFlow contrib module will not be included in TensorFlow 2.0.\n",
            "For more information, please see:\n",
            "  * https://github.com/tensorflow/community/blob/master/rfcs/20180907-contrib-sunset.md\n",
            "  * https://github.com/tensorflow/addons\n",
            "If you depend on functionality not listed there, please file an issue.\n",
            "\n",
            "done: 1\n",
            "done: 101\n",
            "done: 201\n",
            "The model models/semanticsegmentation_frozen_quantized_32_new.tflite accuracy overall is: 0.8211299163255222\n"
          ],
          "name": "stdout"
        }
      ]
    }
  ]
}